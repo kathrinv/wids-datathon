{
 "cells": [
  {
   "cell_type": "code",
   "execution_count": 1,
   "metadata": {},
   "outputs": [],
   "source": [
    "import pandas as pd\n",
    "import matplotlib.pyplot as plt\n",
    "import seaborn as sns\n",
    "import numpy as np\n",
    "from imblearn.over_sampling import SMOTE\n",
    "from sklearn.ensemble import RandomForestClassifier\n",
    "from sklearn.ensemble import GradientBoostingClassifier\n",
    "from sklearn.metrics import f1_score, accuracy_score, confusion_matrix, classification_report, roc_auc_score\n",
    "from sklearn.preprocessing import StandardScaler\n",
    "import tensorflow as tf\n",
    "import tensorflow_datasets as tfds\n",
    "\n",
    "\n",
    "pd.set_option('display.max_columns', 200)\n",
    "pd.set_option('display.max_rows', 200)"
   ]
  },
  {
   "cell_type": "code",
   "execution_count": 783,
   "metadata": {},
   "outputs": [],
   "source": [
    "df = pd.read_csv('training_v2.csv')"
   ]
  },
  {
   "cell_type": "code",
   "execution_count": 784,
   "metadata": {},
   "outputs": [],
   "source": [
    "# composite function to clean dataset\n",
    "def impute_missing_values(df):\n",
    "    \n",
    "    #replace missing ages with mean \n",
    "    df['age'].fillna(value=df['age'].describe()['mean'], inplace=True)\n",
    "    \n",
    "    #find mean height and weight by gender\n",
    "    height_weight_by_gender = df.groupby('gender').mean()[['height', 'weight']]\n",
    "    avg_height = height_weight_by_gender['height'].mean()\n",
    "    avg_weight = height_weight_by_gender['weight'].mean()\n",
    "    \n",
    "    #fill in missing gender based on average height and weight\n",
    "    #where F are < average and M are > average\n",
    "    df.loc[(df['height']> avg_height) & (df['gender'].isna()), 'gender'] = 'M'\n",
    "    df.loc[(df['height']< avg_height) & (df['gender'].isna()), 'gender'] = 'F'\n",
    "    df.loc[(df['weight']> avg_weight) & (df['gender'].isna()), 'gender'] = 'M'\n",
    "    df.loc[(df['weight']< avg_weight) & (df['gender'].isna()), 'gender'] = 'F'\n",
    "    \n",
    "    #any patients without height or weight information are defaulted to M\n",
    "    df['gender'].fillna(value='M', inplace=True)\n",
    "    \n",
    "    #fill in average height and weight based on patient gender\n",
    "    df.loc[(df['gender'] == 'F') & (df['weight'].isna()), 'weight'] = height_weight_by_gender.loc['F']['weight']\n",
    "    df.loc[(df['gender'] == 'F') & (df['height'].isna()), 'height'] = height_weight_by_gender.loc['F']['height']\n",
    "    df.loc[(df['gender'] == 'M') & (df['weight'].isna()), 'weight'] = height_weight_by_gender.loc['M']['weight']\n",
    "    df.loc[(df['gender'] == 'M') & (df['height'].isna()), 'height'] = height_weight_by_gender.loc['M']['height']\n",
    "    df['bmi'] = df['weight'] / (df['height']/100)**2\n",
    "    "
   ]
  },
  {
   "cell_type": "code",
   "execution_count": 785,
   "metadata": {},
   "outputs": [],
   "source": [
    "x = ['albumin_apache','bilirubin_apache','fio2_apache','paco2_for_ph_apache', 'paco2_apache','pao2_apache','ph_apache',\n",
    "'urineoutput_apache','d1_diasbp_invasive_max','d1_diasbp_invasive_min','d1_mbp_invasive_max','d1_mbp_invasive_min',\n",
    " 'd1_sysbp_invasive_max','d1_sysbp_invasive_min','h1_diasbp_invasive_max','h1_diasbp_noninvasive_min','h1_mbp_invasive_max',\n",
    " 'h1_mbp_invasive_min','h1_mbp_noninvasive_max', 'h1_mbp_noninvasive_min', 'h1_sysbp_invasive_max','h1_sysbp_invasive_min',\n",
    " 'h1_sysbp_noninvasive_max','h1_sysbp_noninvasive_min','d1_albumin_max','d1_albumin_min','d1_bilirubin_max','d1_bilirubin_min',\n",
    " 'd1_inr_max','d1_inr_min','d1_lactate_max','d1_lactate_min','h1_albumin_max','h1_albumin_min','h1_bilirubin_max',\n",
    " 'h1_bilirubin_min','h1_bun_max','h1_bun_min','h1_calcium_max','h1_calcium_min','h1_creatinine_max','h1_creatinine_min',\n",
    " 'h1_glucose_max','h1_glucose_min','h1_hco3_max','h1_hco3_min','h1_hemaglobin_max','h1_hemaglobin_min','h1_hematocrit_max',\n",
    " 'h1_hematocrit_min','h1_inr_max','h1_inr_min','h1_lactate_max','h1_lactate_min','h1_platelets_max','h1_platelets_min',\n",
    " 'h1_potassium_max','h1_potassium_min','h1_sodium_max','h1_sodium_min' ,'h1_wbc_max','h1_wbc_min','d1_arterial_pco2_max',\n",
    " 'd1_arterial_pco2_min' ,'d1_arterial_ph_max' ,'d1_arterial_ph_min','d1_arterial_po2_max','d1_arterial_po2_min',\n",
    " 'd1_pao2fio2ratio_max','d1_pao2fio2ratio_min','h1_arterial_pco2_max','h1_arterial_pco2_min','h1_arterial_ph_max',\n",
    " 'h1_arterial_ph_min','h1_arterial_po2_max','h1_arterial_po2_min','h1_pao2fio2ratio_max','h1_pao2fio2ratio_min','h1_diasbp_invasive_min' ]"
   ]
  },
  {
   "cell_type": "code",
   "execution_count": 786,
   "metadata": {},
   "outputs": [],
   "source": [
    "df.drop(['icu_id','readmission_status','hospital_admit_source','encounter_id','patient_id','apache_3j_diagnosis'],axis=1, inplace=True)"
   ]
  },
  {
   "cell_type": "code",
   "execution_count": 787,
   "metadata": {},
   "outputs": [],
   "source": [
    "df.drop(x, axis=1, inplace=True)"
   ]
  },
  {
   "cell_type": "code",
   "execution_count": 788,
   "metadata": {},
   "outputs": [],
   "source": [
    "impute_missing_values(df)"
   ]
  },
  {
   "cell_type": "code",
   "execution_count": 789,
   "metadata": {
    "scrolled": true
   },
   "outputs": [
    {
     "data": {
      "text/plain": [
       "hospital_id                       0.00\n",
       "hospital_death                    0.00\n",
       "age                               0.00\n",
       "bmi                               0.00\n",
       "elective_surgery                  0.00\n",
       "ethnicity                         1.52\n",
       "gender                            0.00\n",
       "height                            0.00\n",
       "icu_admit_source                  0.12\n",
       "icu_stay_type                     0.00\n",
       "icu_type                          0.00\n",
       "pre_icu_los_days                  0.00\n",
       "weight                            0.00\n",
       "apache_2_diagnosis                1.81\n",
       "apache_post_operative             0.00\n",
       "arf_apache                        0.78\n",
       "bun_apache                       21.00\n",
       "creatinine_apache                20.56\n",
       "gcs_eyes_apache                   2.07\n",
       "gcs_motor_apache                  2.07\n",
       "gcs_unable_apache                 1.13\n",
       "gcs_verbal_apache                 2.07\n",
       "glucose_apache                   12.03\n",
       "heart_rate_apache                 0.96\n",
       "hematocrit_apache                21.67\n",
       "intubated_apache                  0.78\n",
       "map_apache                        1.08\n",
       "resprate_apache                   1.35\n",
       "sodium_apache                    20.28\n",
       "temp_apache                       4.48\n",
       "ventilated_apache                 0.78\n",
       "wbc_apache                       24.00\n",
       "d1_diasbp_max                     0.18\n",
       "d1_diasbp_min                     0.18\n",
       "d1_diasbp_noninvasive_max         1.13\n",
       "d1_diasbp_noninvasive_min         1.13\n",
       "d1_heartrate_max                  0.16\n",
       "d1_heartrate_min                  0.16\n",
       "d1_mbp_max                        0.24\n",
       "d1_mbp_min                        0.24\n",
       "d1_mbp_noninvasive_max            1.61\n",
       "d1_mbp_noninvasive_min            1.61\n",
       "d1_resprate_max                   0.42\n",
       "d1_resprate_min                   0.42\n",
       "d1_spo2_max                       0.36\n",
       "d1_spo2_min                       0.36\n",
       "d1_sysbp_max                      0.17\n",
       "d1_sysbp_min                      0.17\n",
       "d1_sysbp_noninvasive_max          1.12\n",
       "d1_sysbp_noninvasive_min          1.12\n",
       "d1_temp_max                       2.53\n",
       "d1_temp_min                       2.53\n",
       "h1_diasbp_max                     3.95\n",
       "h1_diasbp_min                     3.95\n",
       "h1_diasbp_noninvasive_max         8.01\n",
       "h1_heartrate_max                  3.04\n",
       "h1_heartrate_min                  3.04\n",
       "h1_mbp_max                        5.06\n",
       "h1_mbp_min                        5.06\n",
       "h1_resprate_max                   4.75\n",
       "h1_resprate_min                   4.75\n",
       "h1_spo2_max                       4.56\n",
       "h1_spo2_min                       4.56\n",
       "h1_sysbp_max                      3.94\n",
       "h1_sysbp_min                      3.94\n",
       "h1_temp_max                      23.70\n",
       "h1_temp_min                      23.70\n",
       "d1_bun_max                       11.46\n",
       "d1_bun_min                       11.46\n",
       "d1_calcium_max                   14.25\n",
       "d1_calcium_min                   14.25\n",
       "d1_creatinine_max                11.09\n",
       "d1_creatinine_min                11.09\n",
       "d1_glucose_max                    6.33\n",
       "d1_glucose_min                    6.33\n",
       "d1_hco3_max                      16.43\n",
       "d1_hco3_min                      16.43\n",
       "d1_hemaglobin_max                13.24\n",
       "d1_hemaglobin_min                13.24\n",
       "d1_hematocrit_max                12.71\n",
       "d1_hematocrit_min                12.71\n",
       "d1_platelets_max                 14.66\n",
       "d1_platelets_min                 14.66\n",
       "d1_potassium_max                 10.45\n",
       "d1_potassium_min                 10.45\n",
       "d1_sodium_max                    11.12\n",
       "d1_sodium_min                    11.12\n",
       "d1_wbc_max                       14.36\n",
       "d1_wbc_min                       14.36\n",
       "apache_4a_hospital_death_prob     8.67\n",
       "apache_4a_icu_death_prob          8.67\n",
       "aids                              0.78\n",
       "cirrhosis                         0.78\n",
       "diabetes_mellitus                 0.78\n",
       "hepatic_failure                   0.78\n",
       "immunosuppression                 0.78\n",
       "leukemia                          0.78\n",
       "lymphoma                          0.78\n",
       "solid_tumor_with_metastasis       0.78\n",
       "apache_3j_bodysystem              1.81\n",
       "apache_2_bodysystem               1.81\n",
       "dtype: float64"
      ]
     },
     "execution_count": 789,
     "metadata": {},
     "output_type": "execute_result"
    }
   ],
   "source": [
    "# check for NAN values\n",
    "round(df.isna().sum()/df.shape[0]*100, 2)"
   ]
  },
  {
   "cell_type": "code",
   "execution_count": 790,
   "metadata": {
    "scrolled": true
   },
   "outputs": [
    {
     "data": {
      "text/plain": [
       "hospital_id                          0\n",
       "hospital_death                       0\n",
       "age                                  0\n",
       "bmi                                  0\n",
       "elective_surgery                     0\n",
       "ethnicity                         1395\n",
       "gender                               0\n",
       "height                               0\n",
       "icu_admit_source                   112\n",
       "icu_stay_type                        0\n",
       "icu_type                             0\n",
       "pre_icu_los_days                     0\n",
       "weight                               0\n",
       "apache_2_diagnosis                1662\n",
       "apache_post_operative                0\n",
       "arf_apache                         715\n",
       "bun_apache                       19262\n",
       "creatinine_apache                18853\n",
       "gcs_eyes_apache                   1901\n",
       "gcs_motor_apache                  1901\n",
       "gcs_unable_apache                 1037\n",
       "gcs_verbal_apache                 1901\n",
       "glucose_apache                   11036\n",
       "heart_rate_apache                  878\n",
       "hematocrit_apache                19878\n",
       "intubated_apache                   715\n",
       "map_apache                         994\n",
       "resprate_apache                   1234\n",
       "sodium_apache                    18600\n",
       "temp_apache                       4108\n",
       "ventilated_apache                  715\n",
       "wbc_apache                       22012\n",
       "d1_diasbp_max                      165\n",
       "d1_diasbp_min                      165\n",
       "d1_diasbp_noninvasive_max         1040\n",
       "d1_diasbp_noninvasive_min         1040\n",
       "d1_heartrate_max                   145\n",
       "d1_heartrate_min                   145\n",
       "d1_mbp_max                         220\n",
       "d1_mbp_min                         220\n",
       "d1_mbp_noninvasive_max            1479\n",
       "d1_mbp_noninvasive_min            1479\n",
       "d1_resprate_max                    385\n",
       "d1_resprate_min                    385\n",
       "d1_spo2_max                        333\n",
       "d1_spo2_min                        333\n",
       "d1_sysbp_max                       159\n",
       "d1_sysbp_min                       159\n",
       "d1_sysbp_noninvasive_max          1027\n",
       "d1_sysbp_noninvasive_min          1027\n",
       "d1_temp_max                       2324\n",
       "d1_temp_min                       2324\n",
       "h1_diasbp_max                     3619\n",
       "h1_diasbp_min                     3619\n",
       "h1_diasbp_noninvasive_max         7350\n",
       "h1_heartrate_max                  2790\n",
       "h1_heartrate_min                  2790\n",
       "h1_mbp_max                        4639\n",
       "h1_mbp_min                        4639\n",
       "h1_resprate_max                   4357\n",
       "h1_resprate_min                   4357\n",
       "h1_spo2_max                       4185\n",
       "h1_spo2_min                       4185\n",
       "h1_sysbp_max                      3611\n",
       "h1_sysbp_min                      3611\n",
       "h1_temp_max                      21732\n",
       "h1_temp_min                      21732\n",
       "d1_bun_max                       10514\n",
       "d1_bun_min                       10514\n",
       "d1_calcium_max                   13069\n",
       "d1_calcium_min                   13069\n",
       "d1_creatinine_max                10169\n",
       "d1_creatinine_min                10169\n",
       "d1_glucose_max                    5807\n",
       "d1_glucose_min                    5807\n",
       "d1_hco3_max                      15071\n",
       "d1_hco3_min                      15071\n",
       "d1_hemaglobin_max                12147\n",
       "d1_hemaglobin_min                12147\n",
       "d1_hematocrit_max                11654\n",
       "d1_hematocrit_min                11654\n",
       "d1_platelets_max                 13444\n",
       "d1_platelets_min                 13444\n",
       "d1_potassium_max                  9585\n",
       "d1_potassium_min                  9585\n",
       "d1_sodium_max                    10195\n",
       "d1_sodium_min                    10195\n",
       "d1_wbc_max                       13174\n",
       "d1_wbc_min                       13174\n",
       "apache_4a_hospital_death_prob     7947\n",
       "apache_4a_icu_death_prob          7947\n",
       "aids                               715\n",
       "cirrhosis                          715\n",
       "diabetes_mellitus                  715\n",
       "hepatic_failure                    715\n",
       "immunosuppression                  715\n",
       "leukemia                           715\n",
       "lymphoma                           715\n",
       "solid_tumor_with_metastasis        715\n",
       "apache_3j_bodysystem              1662\n",
       "apache_2_bodysystem               1662\n",
       "dtype: int64"
      ]
     },
     "execution_count": 790,
     "metadata": {},
     "output_type": "execute_result"
    }
   ],
   "source": [
    "df.isna().sum()"
   ]
  },
  {
   "cell_type": "code",
   "execution_count": 791,
   "metadata": {},
   "outputs": [],
   "source": [
    "#fill means\n",
    "df.d1_heartrate_max.fillna(df.d1_heartrate_max.mean(),inplace=True)\n",
    "df.d1_heartrate_min.fillna(df.d1_heartrate_min.mean(),inplace=True) \n",
    "df.d1_mbp_max.fillna(df.d1_mbp_max.mean(),inplace=True) \n",
    "df.d1_mbp_min.fillna(df.d1_mbp_min.mean(),inplace=True) \n",
    "df.d1_resprate_max.fillna(df.d1_resprate_max.mean(),inplace=True) \n",
    "df.d1_resprate_min.fillna(df.d1_resprate_min.mean(),inplace=True) \n",
    "df.d1_spo2_max.fillna(df.d1_spo2_max.mean(),inplace=True) \n",
    "df.d1_spo2_min.fillna(df.d1_spo2_min.mean(),inplace=True) \n",
    "df.d1_sysbp_max.fillna(df.d1_sysbp_max.mean(),inplace=True) \n",
    "df.d1_sysbp_min.fillna(df.d1_sysbp_min.mean(),inplace=True) "
   ]
  },
  {
   "cell_type": "code",
   "execution_count": 792,
   "metadata": {
    "scrolled": true
   },
   "outputs": [],
   "source": [
    "#fill categoricals\n",
    "df.ethnicity.fillna('Other/Unknown',inplace=True)\n",
    "df.apache_3j_bodysystem.fillna('Other',inplace=True)\n",
    "df.icu_admit_source.fillna('Other',inplace=True)"
   ]
  },
  {
   "cell_type": "code",
   "execution_count": 793,
   "metadata": {},
   "outputs": [],
   "source": [
    "#fill numerical categories\n",
    "df.gcs_eyes_apache.fillna(4.0, inplace=True)\n",
    "df.gcs_motor_apache.fillna(6.0, inplace=True)\n",
    "df.gcs_unable_apache.fillna(0.0, inplace=True)\n",
    "df.intubated_apache.fillna(0.0, inplace=True)\n",
    "df.arf_apache.fillna(0.0, inplace=True)\n",
    "df.ventilated_apache.fillna(0.0, inplace=True)\n",
    "df.aids.fillna(0.0, inplace=True)\n",
    "df.cirrhosis.fillna(0.0, inplace=True)\n",
    "df.diabetes_mellitus.fillna(0.0, inplace=True)\n",
    "df.hepatic_failure.fillna(0.0, inplace=True)\n",
    "df.immunosuppression.fillna(0.0, inplace=True)\n",
    "df.leukemia.fillna(0.0, inplace=True)\n",
    "df.lymphoma.fillna(0.0, inplace=True)\n",
    "df.solid_tumor_with_metastasis.fillna(0.0, inplace=True)"
   ]
  },
  {
   "cell_type": "code",
   "execution_count": 794,
   "metadata": {
    "scrolled": true
   },
   "outputs": [],
   "source": [
    "# #drop due to multicollinearity or duplicate\n",
    "df.drop(['d1_diasbp_max','d1_diasbp_noninvasive_max','d1_mbp_noninvasive_max','d1_diasbp_min','d1_diasbp_noninvasive_min','d1_mbp_noninvasive_min','gcs_verbal_apache'],axis=1,inplace=True)\n",
    "df.drop(['bun_apache','creatinine_apache','hematocrit_apache','sodium_apache','wbc_apache','glucose_apache','d1_hemaglobin_max','d1_hemaglobin_min','heart_rate_apache','apache_2_bodysystem'],axis=1,inplace=True)\n",
    "df.drop(['temp_apache','h1_temp_max','h1_temp_min','h1_diasbp_noninvasive_max'],axis=1,inplace=True)\n",
    "\n"
   ]
  },
  {
   "cell_type": "code",
   "execution_count": 795,
   "metadata": {},
   "outputs": [],
   "source": [
    "#impute median for the following column\n",
    "cols = ['d1_sysbp_noninvasive_max',\n",
    " 'd1_sysbp_noninvasive_min',\n",
    " 'd1_temp_max',\n",
    " 'd1_temp_min',\n",
    " 'h1_diasbp_max',\n",
    " 'h1_diasbp_min',\n",
    " 'h1_heartrate_max',\n",
    " 'h1_heartrate_min',\n",
    " 'h1_mbp_max',\n",
    " 'h1_mbp_min',\n",
    " 'h1_resprate_max',\n",
    " 'h1_resprate_min',\n",
    " 'h1_spo2_max',\n",
    " 'h1_spo2_min',\n",
    " 'h1_sysbp_max',\n",
    " 'h1_sysbp_min',\n",
    " 'd1_bun_max',\n",
    " 'd1_bun_min',\n",
    " 'd1_calcium_max',\n",
    " 'd1_calcium_min',\n",
    " 'd1_creatinine_max',\n",
    " 'd1_creatinine_min',\n",
    " 'd1_glucose_max',\n",
    " 'd1_glucose_min',\n",
    " 'd1_hco3_max',\n",
    " 'd1_hco3_min',\n",
    " 'd1_hematocrit_max',\n",
    " 'd1_hematocrit_min',\n",
    " 'd1_platelets_max',\n",
    " 'd1_platelets_min',\n",
    " 'd1_potassium_max',\n",
    " 'd1_potassium_min',\n",
    " 'd1_sodium_max',\n",
    " 'd1_sodium_min',\n",
    " 'd1_wbc_max',\n",
    " 'd1_wbc_min',\n",
    " 'map_apache',\n",
    " 'resprate_apache',\n",
    " 'apache_4a_hospital_death_prob',\n",
    " 'apache_4a_icu_death_prob',\n",
    "'apache_2_diagnosis']"
   ]
  },
  {
   "cell_type": "code",
   "execution_count": 796,
   "metadata": {},
   "outputs": [],
   "source": [
    "for col in cols:\n",
    "    df[col].fillna(df[col].median(),inplace=True)"
   ]
  },
  {
   "cell_type": "markdown",
   "metadata": {},
   "source": [
    "# transform hospital id to percent of death"
   ]
  },
  {
   "cell_type": "code",
   "execution_count": 797,
   "metadata": {},
   "outputs": [],
   "source": [
    "#create a dictionary to map all the hopsital ids to percentage of hospital deaths\n",
    "x = df.groupby('hospital_id').sum()['hospital_death']/df.groupby('hospital_id').count()['hospital_death']\n",
    "x = list(zip(x.index, list(x)))\n",
    "dic = {i:'less than 10%' if j < 0.1 else '10-20%' if j < 0.2 else 'greater than 20%' for i,j in x}\n",
    "\n",
    "df['hospital_death_rate'] = df.hospital_id.apply(lambda x: dic[x])"
   ]
  },
  {
   "cell_type": "code",
   "execution_count": 798,
   "metadata": {},
   "outputs": [],
   "source": [
    "df.drop('hospital_id',inplace=True,axis=1)"
   ]
  },
  {
   "cell_type": "markdown",
   "metadata": {},
   "source": [
    "# Look at correlated columns"
   ]
  },
  {
   "cell_type": "code",
   "execution_count": null,
   "metadata": {},
   "outputs": [],
   "source": [
    "x = df.corr()['hospital_death']\n",
    "x = list(zip(list(x.index),list(x)))\n",
    "above_5 = [i for i, j in x if abs(j) > 0.1]\n",
    "below_5 = [i for i, j in x if abs(j) <= 0.1]"
   ]
  },
  {
   "cell_type": "code",
   "execution_count": null,
   "metadata": {},
   "outputs": [],
   "source": []
  },
  {
   "cell_type": "code",
   "execution_count": null,
   "metadata": {},
   "outputs": [],
   "source": [
    "above_5"
   ]
  },
  {
   "cell_type": "code",
   "execution_count": null,
   "metadata": {},
   "outputs": [],
   "source": [
    "below_5"
   ]
  },
  {
   "cell_type": "markdown",
   "metadata": {},
   "source": [
    "# One hot encode categorical"
   ]
  },
  {
   "cell_type": "code",
   "execution_count": 822,
   "metadata": {},
   "outputs": [],
   "source": [
    "#floats that need to be converted to ints\n",
    "float_2_int_cols = ['apache_2_diagnosis','arf_apache','gcs_eyes_apache','gcs_motor_apache','gcs_unable_apache',\n",
    "                   'intubated_apache','ventilated_apache','aids','cirrhosis','diabetes_mellitus','hepatic_failure',\n",
    "                   'immunosuppression','leukemia','lymphoma','solid_tumor_with_metastasis']\n",
    "for col in float_2_int_cols:\n",
    "    df[col] = df[col].astype(int)"
   ]
  },
  {
   "cell_type": "code",
   "execution_count": 823,
   "metadata": {},
   "outputs": [],
   "source": [
    "categorical_cols = ['hospital_death_rate','ethnicity','gender','icu_admit_source','icu_stay_type','icu_type','gcs_eyes_apache',\n",
    "                   'gcs_motor_apache','apache_3j_bodysystem']\n",
    "# hospital_id = 147 unique\n",
    "# ethnicity = 6 unique\n",
    "# gender = 2 unique\n",
    "# icu_admit_source = 5 unique\n",
    "# icu_stay_type = 3 unique\n",
    "# apache_2_diagnosis = 44 unique\n",
    "# icu_type = 8 unique\n",
    "# gcs_eyes_apache = 4 unique\n",
    "# gcs_motor_apache = 6 unique\n",
    "# apache_3j_bodysystem = 12 unique\n",
    "for col in categorical_cols:\n",
    "    df[col] = df[col].astype(str)\n",
    "\n",
    "dummies = pd.get_dummies(df[categorical_cols],drop_first=True)"
   ]
  },
  {
   "cell_type": "code",
   "execution_count": 824,
   "metadata": {},
   "outputs": [],
   "source": [
    "df_dum = pd.concat([df,dummies],axis=1)"
   ]
  },
  {
   "cell_type": "code",
   "execution_count": 825,
   "metadata": {},
   "outputs": [],
   "source": [
    "df_dum.drop(categorical_cols,axis=1,inplace=True)"
   ]
  },
  {
   "cell_type": "code",
   "execution_count": 826,
   "metadata": {},
   "outputs": [],
   "source": [
    "#df_dum.drop(below_5, axis=1, inplace=True)"
   ]
  },
  {
   "cell_type": "code",
   "execution_count": 827,
   "metadata": {},
   "outputs": [],
   "source": [
    "from sklearn.model_selection import train_test_split"
   ]
  },
  {
   "cell_type": "code",
   "execution_count": 828,
   "metadata": {},
   "outputs": [],
   "source": [
    "X = df_dum.drop('hospital_death',axis=1)\n",
    "y = df_dum['hospital_death']"
   ]
  },
  {
   "cell_type": "code",
   "execution_count": 829,
   "metadata": {},
   "outputs": [],
   "source": [
    "x_train, x_test, y_train, y_test = train_test_split(X,y,test_size=0.2,random_state=2,stratify=y)"
   ]
  },
  {
   "cell_type": "code",
   "execution_count": 830,
   "metadata": {},
   "outputs": [],
   "source": [
    "continuous_col = ['age',\n",
    " 'bmi',\n",
    " 'height',\n",
    " 'pre_icu_los_days',\n",
    " 'weight',\n",
    " 'map_apache',\n",
    " 'resprate_apache',\n",
    " 'd1_heartrate_max',\n",
    " 'd1_heartrate_min',\n",
    " 'd1_mbp_max',\n",
    " 'd1_mbp_min',\n",
    " 'd1_resprate_max',\n",
    " 'd1_resprate_min',\n",
    " 'd1_spo2_max',\n",
    " 'd1_spo2_min',\n",
    " 'd1_sysbp_max',\n",
    " 'd1_sysbp_min',\n",
    " 'd1_sysbp_noninvasive_max',\n",
    " 'd1_sysbp_noninvasive_min',\n",
    " 'd1_temp_max',\n",
    " 'd1_temp_min',\n",
    " 'h1_diasbp_max',\n",
    " 'h1_diasbp_min',\n",
    " 'h1_heartrate_max',\n",
    " 'h1_heartrate_min',\n",
    " 'h1_mbp_max',\n",
    " 'h1_mbp_min',\n",
    " 'h1_resprate_max',\n",
    " 'h1_resprate_min',\n",
    " 'h1_spo2_max',\n",
    " 'h1_spo2_min',\n",
    " 'h1_sysbp_max',\n",
    " 'h1_sysbp_min',\n",
    " 'd1_bun_max',\n",
    " 'd1_bun_min',\n",
    " 'd1_calcium_max',\n",
    " 'd1_calcium_min',\n",
    " 'd1_creatinine_max',\n",
    " 'd1_creatinine_min',\n",
    " 'd1_glucose_max',\n",
    " 'd1_glucose_min',\n",
    " 'd1_hco3_max',\n",
    " 'd1_hco3_min',\n",
    " 'd1_hematocrit_max',\n",
    " 'd1_hematocrit_min',\n",
    " 'd1_platelets_max',\n",
    " 'd1_platelets_min',\n",
    " 'd1_potassium_max',\n",
    " 'd1_potassium_min',\n",
    " 'd1_sodium_max',\n",
    " 'd1_sodium_min',\n",
    " 'd1_wbc_max',\n",
    " 'd1_wbc_min',\n",
    " 'apache_4a_hospital_death_prob',\n",
    " 'apache_4a_icu_death_prob']"
   ]
  },
  {
   "cell_type": "code",
   "execution_count": 833,
   "metadata": {},
   "outputs": [],
   "source": [
    "#continuous_col = [x for x in continuous_col if x not in below_5]"
   ]
  },
  {
   "cell_type": "code",
   "execution_count": 834,
   "metadata": {},
   "outputs": [],
   "source": [
    "ss = StandardScaler()"
   ]
  },
  {
   "cell_type": "code",
   "execution_count": 835,
   "metadata": {},
   "outputs": [
    {
     "name": "stderr",
     "output_type": "stream",
     "text": [
      "/Users/justintennenbaum/opt/anaconda3/envs/wids/lib/python3.7/site-packages/pandas/core/indexing.py:494: SettingWithCopyWarning: \n",
      "A value is trying to be set on a copy of a slice from a DataFrame.\n",
      "Try using .loc[row_indexer,col_indexer] = value instead\n",
      "\n",
      "See the caveats in the documentation: http://pandas.pydata.org/pandas-docs/stable/user_guide/indexing.html#returning-a-view-versus-a-copy\n",
      "  self.obj[item] = s\n",
      "/Users/justintennenbaum/opt/anaconda3/envs/wids/lib/python3.7/site-packages/pandas/core/indexing.py:494: SettingWithCopyWarning: \n",
      "A value is trying to be set on a copy of a slice from a DataFrame.\n",
      "Try using .loc[row_indexer,col_indexer] = value instead\n",
      "\n",
      "See the caveats in the documentation: http://pandas.pydata.org/pandas-docs/stable/user_guide/indexing.html#returning-a-view-versus-a-copy\n",
      "  self.obj[item] = s\n"
     ]
    }
   ],
   "source": [
    "x_train.loc[:,continuous_col] = ss.fit_transform(x_train[continuous_col])\n",
    "x_test.loc[:,continuous_col] = ss.transform(x_test[continuous_col])"
   ]
  },
  {
   "cell_type": "code",
   "execution_count": 836,
   "metadata": {},
   "outputs": [],
   "source": [
    "#use smote to balance the class sizes\n",
    "smt = SMOTE()\n",
    "x_train, y_train = smt.fit_sample(x_train, y_train)"
   ]
  },
  {
   "cell_type": "code",
   "execution_count": 837,
   "metadata": {},
   "outputs": [],
   "source": [
    "x_train = pd.DataFrame(x_train)\n",
    "y_train = pd.Series(y_train)"
   ]
  },
  {
   "cell_type": "code",
   "execution_count": 838,
   "metadata": {},
   "outputs": [],
   "source": [
    "GBC = GradientBoostingClassifier()"
   ]
  },
  {
   "cell_type": "code",
   "execution_count": 839,
   "metadata": {},
   "outputs": [
    {
     "data": {
      "text/plain": [
       "GradientBoostingClassifier(criterion='friedman_mse', init=None,\n",
       "                           learning_rate=0.1, loss='deviance', max_depth=3,\n",
       "                           max_features=None, max_leaf_nodes=None,\n",
       "                           min_impurity_decrease=0.0, min_impurity_split=None,\n",
       "                           min_samples_leaf=1, min_samples_split=2,\n",
       "                           min_weight_fraction_leaf=0.0, n_estimators=100,\n",
       "                           n_iter_no_change=None, presort='auto',\n",
       "                           random_state=None, subsample=1.0, tol=0.0001,\n",
       "                           validation_fraction=0.1, verbose=0,\n",
       "                           warm_start=False)"
      ]
     },
     "execution_count": 839,
     "metadata": {},
     "output_type": "execute_result"
    }
   ],
   "source": [
    "GBC.fit(x_train, y_train)"
   ]
  },
  {
   "cell_type": "code",
   "execution_count": 840,
   "metadata": {},
   "outputs": [],
   "source": [
    "y_pred = GBC.predict(x_test)"
   ]
  },
  {
   "cell_type": "code",
   "execution_count": 841,
   "metadata": {
    "scrolled": false
   },
   "outputs": [
    {
     "data": {
      "text/plain": [
       "0.9156081338930382"
      ]
     },
     "execution_count": 841,
     "metadata": {},
     "output_type": "execute_result"
    }
   ],
   "source": [
    "accuracy_score(y_test, y_pred)"
   ]
  },
  {
   "cell_type": "code",
   "execution_count": 842,
   "metadata": {
    "scrolled": true
   },
   "outputs": [
    {
     "data": {
      "text/plain": [
       "0.4471428571428571"
      ]
     },
     "execution_count": 842,
     "metadata": {},
     "output_type": "execute_result"
    }
   ],
   "source": [
    "f1_score(y_test, y_pred)"
   ]
  },
  {
   "cell_type": "code",
   "execution_count": 843,
   "metadata": {},
   "outputs": [
    {
     "name": "stdout",
     "output_type": "stream",
     "text": [
      "              precision    recall  f1-score   support\n",
      "\n",
      "           0       0.94      0.96      0.95     16760\n",
      "           1       0.51      0.40      0.45      1583\n",
      "\n",
      "    accuracy                           0.92     18343\n",
      "   macro avg       0.73      0.68      0.70     18343\n",
      "weighted avg       0.91      0.92      0.91     18343\n",
      "\n"
     ]
    }
   ],
   "source": [
    "print(classification_report(y_test,y_pred))"
   ]
  },
  {
   "cell_type": "code",
   "execution_count": 844,
   "metadata": {},
   "outputs": [
    {
     "data": {
      "text/plain": [
       "0.6800945721018519"
      ]
     },
     "execution_count": 844,
     "metadata": {},
     "output_type": "execute_result"
    }
   ],
   "source": [
    "roc_auc_score(y_test,y_pred)"
   ]
  },
  {
   "cell_type": "markdown",
   "metadata": {},
   "source": [
    "## RANDOM FOREST"
   ]
  },
  {
   "cell_type": "code",
   "execution_count": 845,
   "metadata": {},
   "outputs": [],
   "source": [
    "rfc = RandomForestClassifier(max_depth=20, n_estimators=100, min_samples_leaf=2,min_samples_split=5)"
   ]
  },
  {
   "cell_type": "code",
   "execution_count": 846,
   "metadata": {},
   "outputs": [
    {
     "data": {
      "text/plain": [
       "RandomForestClassifier(bootstrap=True, class_weight=None, criterion='gini',\n",
       "                       max_depth=20, max_features='auto', max_leaf_nodes=None,\n",
       "                       min_impurity_decrease=0.0, min_impurity_split=None,\n",
       "                       min_samples_leaf=2, min_samples_split=5,\n",
       "                       min_weight_fraction_leaf=0.0, n_estimators=100,\n",
       "                       n_jobs=None, oob_score=False, random_state=None,\n",
       "                       verbose=0, warm_start=False)"
      ]
     },
     "execution_count": 846,
     "metadata": {},
     "output_type": "execute_result"
    }
   ],
   "source": [
    "rfc.fit(x_train, y_train)"
   ]
  },
  {
   "cell_type": "code",
   "execution_count": 847,
   "metadata": {},
   "outputs": [],
   "source": [
    "y_pred = rfc.predict(x_test)"
   ]
  },
  {
   "cell_type": "code",
   "execution_count": 848,
   "metadata": {
    "scrolled": false
   },
   "outputs": [
    {
     "data": {
      "text/plain": [
       "0.9193152701302949"
      ]
     },
     "execution_count": 848,
     "metadata": {},
     "output_type": "execute_result"
    }
   ],
   "source": [
    "accuracy_score(y_test, y_pred)"
   ]
  },
  {
   "cell_type": "code",
   "execution_count": 849,
   "metadata": {},
   "outputs": [
    {
     "data": {
      "text/plain": [
       "0.45985401459854014"
      ]
     },
     "execution_count": 849,
     "metadata": {},
     "output_type": "execute_result"
    }
   ],
   "source": [
    "f1_score(y_test, y_pred)"
   ]
  },
  {
   "cell_type": "code",
   "execution_count": 850,
   "metadata": {},
   "outputs": [
    {
     "name": "stdout",
     "output_type": "stream",
     "text": [
      "              precision    recall  f1-score   support\n",
      "\n",
      "           0       0.94      0.97      0.96     16760\n",
      "           1       0.54      0.40      0.46      1583\n",
      "\n",
      "    accuracy                           0.92     18343\n",
      "   macro avg       0.74      0.68      0.71     18343\n",
      "weighted avg       0.91      0.92      0.91     18343\n",
      "\n"
     ]
    },
    {
     "data": {
      "text/plain": [
       "array([[16233,   527],\n",
       "       [  953,   630]])"
      ]
     },
     "execution_count": 850,
     "metadata": {},
     "output_type": "execute_result"
    }
   ],
   "source": [
    "print(classification_report(y_test,y_pred))\n",
    "confusion_matrix(y_test, y_pred)"
   ]
  },
  {
   "cell_type": "code",
   "execution_count": 851,
   "metadata": {},
   "outputs": [
    {
     "data": {
      "text/plain": [
       "0.6832673038564582"
      ]
     },
     "execution_count": 851,
     "metadata": {},
     "output_type": "execute_result"
    }
   ],
   "source": [
    "roc_auc_score(y_test, y_pred)"
   ]
  },
  {
   "cell_type": "code",
   "execution_count": 852,
   "metadata": {},
   "outputs": [],
   "source": [
    "train_dataset = tf.data.Dataset.from_tensor_slices((x_train.values, y_train.values))\n",
    "test_dataset = tf.data.Dataset.from_tensor_slices((x_test.values,y_test.values))"
   ]
  },
  {
   "cell_type": "code",
   "execution_count": 853,
   "metadata": {},
   "outputs": [],
   "source": [
    "BATCH_SIZE = 128\n",
    "SHUFFLE_BUFFER_SIZE = 120000\n",
    "\n",
    "train_dataset = train_dataset.shuffle(SHUFFLE_BUFFER_SIZE).batch(BATCH_SIZE)\n",
    "test_dataset = test_dataset.batch(BATCH_SIZE)"
   ]
  },
  {
   "cell_type": "code",
   "execution_count": 864,
   "metadata": {},
   "outputs": [],
   "source": [
    "model = tf.keras.Sequential([\n",
    "    tf.keras.layers.Dense(128, kernel_regularizer=tf.keras.regularizers.l2(0.1), activation='relu'),\n",
    "    tf.keras.layers.BatchNormalization(),\n",
    "\n",
    "    tf.keras.layers.Dense(64, kernel_regularizer=tf.keras.regularizers.l2(0.1), activation='relu'),\n",
    "    tf.keras.layers.BatchNormalization(),\n",
    "    \n",
    "    tf.keras.layers.Dense(32, kernel_regularizer=tf.keras.regularizers.l2(0.1), activation='relu'),\n",
    "    tf.keras.layers.BatchNormalization(),\n",
    "    \n",
    "    tf.keras.layers.Dense(1, activation='sigmoid')\n",
    "    \n",
    "])"
   ]
  },
  {
   "cell_type": "code",
   "execution_count": 865,
   "metadata": {},
   "outputs": [],
   "source": [
    "model.compile(loss=tf.keras.losses.BinaryCrossentropy(),\n",
    "             optimizer=tf.keras.optimizers.Adam(learning_rate=5e-4),\n",
    "             metrics=['acc'])"
   ]
  },
  {
   "cell_type": "code",
   "execution_count": null,
   "metadata": {
    "scrolled": true
   },
   "outputs": [
    {
     "name": "stdout",
     "output_type": "stream",
     "text": [
      "Train for 1048 steps, validate for 144 steps\n",
      "Epoch 1/50\n",
      "1048/1048 [==============================] - 8s 8ms/step - loss: 3.1685 - acc: 0.7760 - val_loss: 0.2796 - val_acc: 0.9174\n",
      "Epoch 2/50\n",
      "1048/1048 [==============================] - 5s 5ms/step - loss: 0.4692 - acc: 0.7877 - val_loss: 1.3424 - val_acc: 0.3614\n",
      "Epoch 3/50\n",
      "1048/1048 [==============================] - 6s 5ms/step - loss: 0.4547 - acc: 0.7912 - val_loss: 0.6695 - val_acc: 0.6633\n",
      "Epoch 4/50\n",
      "1048/1048 [==============================] - 6s 6ms/step - loss: 0.4529 - acc: 0.7927 - val_loss: 1.0464 - val_acc: 0.3219\n",
      "Epoch 5/50\n",
      "1048/1048 [==============================] - 6s 6ms/step - loss: 0.4485 - acc: 0.7940 - val_loss: 0.7932 - val_acc: 0.4854\n",
      "Epoch 6/50\n",
      "1048/1048 [==============================] - 6s 6ms/step - loss: 0.4479 - acc: 0.7941 - val_loss: 0.2804 - val_acc: 0.8953\n",
      "Epoch 7/50\n",
      "1048/1048 [==============================] - 6s 6ms/step - loss: 0.4494 - acc: 0.7942 - val_loss: 0.3297 - val_acc: 0.8581\n",
      "Epoch 8/50\n",
      "1048/1048 [==============================] - 6s 6ms/step - loss: 0.4494 - acc: 0.7939 - val_loss: 0.3444 - val_acc: 0.8476\n",
      "Epoch 9/50\n",
      "1048/1048 [==============================] - 6s 6ms/step - loss: 0.4463 - acc: 0.7950 - val_loss: 0.7236 - val_acc: 0.5096\n",
      "Epoch 10/50\n",
      "1048/1048 [==============================] - 6s 6ms/step - loss: 0.4497 - acc: 0.7923 - val_loss: 0.9843 - val_acc: 0.4219\n",
      "Epoch 11/50\n",
      "1048/1048 [==============================] - 6s 6ms/step - loss: 0.4462 - acc: 0.7948 - val_loss: 0.4196 - val_acc: 0.8132\n",
      "Epoch 12/50\n",
      "1048/1048 [==============================] - 6s 6ms/step - loss: 0.4474 - acc: 0.7939 - val_loss: 0.3429 - val_acc: 0.8745\n",
      "Epoch 13/50\n",
      "1048/1048 [==============================] - 6s 6ms/step - loss: 0.4457 - acc: 0.7946 - val_loss: 0.5360 - val_acc: 0.7297\n",
      "Epoch 14/50\n",
      "1048/1048 [==============================] - 6s 6ms/step - loss: 0.4439 - acc: 0.7976 - val_loss: 0.3544 - val_acc: 0.8406\n",
      "Epoch 15/50\n",
      "1048/1048 [==============================] - 5s 5ms/step - loss: 0.4459 - acc: 0.7959 - val_loss: 0.6438 - val_acc: 0.6554\n",
      "Epoch 16/50\n",
      "1048/1048 [==============================] - 8s 7ms/step - loss: 0.4473 - acc: 0.7937 - val_loss: 0.7296 - val_acc: 0.6147\n",
      "Epoch 17/50\n",
      "1048/1048 [==============================] - 7s 7ms/step - loss: 0.4425 - acc: 0.7975 - val_loss: 0.4113 - val_acc: 0.7871\n",
      "Epoch 18/50\n",
      "1048/1048 [==============================] - 6s 6ms/step - loss: 0.4420 - acc: 0.7969 - val_loss: 0.6933 - val_acc: 0.5649\n",
      "Epoch 19/50\n",
      "1048/1048 [==============================] - 6s 6ms/step - loss: 0.4408 - acc: 0.7980 - val_loss: 0.6045 - val_acc: 0.6710\n",
      "Epoch 20/50\n",
      "1048/1048 [==============================] - 6s 6ms/step - loss: 0.4409 - acc: 0.7982 - val_loss: 0.8139 - val_acc: 0.5642\n",
      "Epoch 21/50\n",
      "1048/1048 [==============================] - 7s 7ms/step - loss: 0.4403 - acc: 0.7998 - val_loss: 0.5409 - val_acc: 0.7467\n",
      "Epoch 22/50\n",
      "1048/1048 [==============================] - 5s 5ms/step - loss: 0.4416 - acc: 0.7979 - val_loss: 0.5914 - val_acc: 0.6748\n",
      "Epoch 23/50\n",
      "1048/1048 [==============================] - 5s 5ms/step - loss: 0.4409 - acc: 0.7985 - val_loss: 0.3468 - val_acc: 0.9080\n",
      "Epoch 24/50\n",
      "1048/1048 [==============================] - 5s 5ms/step - loss: 0.4534 - acc: 0.7890 - val_loss: 0.4983 - val_acc: 0.7674\n",
      "Epoch 25/50\n",
      "1048/1048 [==============================] - 7s 6ms/step - loss: 0.4492 - acc: 0.7916 - val_loss: 0.4542 - val_acc: 0.8038\n",
      "Epoch 26/50\n",
      "1048/1048 [==============================] - 6s 6ms/step - loss: 0.4473 - acc: 0.7916 - val_loss: 0.6044 - val_acc: 0.6781\n",
      "Epoch 27/50\n",
      "1048/1048 [==============================] - 7s 6ms/step - loss: 0.4449 - acc: 0.7934 - val_loss: 1.4247 - val_acc: 0.2016\n",
      "Epoch 28/50\n",
      "1048/1048 [==============================] - 6s 6ms/step - loss: 0.4533 - acc: 0.7913 - val_loss: 1.3102 - val_acc: 0.3494\n",
      "Epoch 29/50\n",
      "1048/1048 [==============================] - 7s 6ms/step - loss: 0.4506 - acc: 0.7926 - val_loss: 0.5450 - val_acc: 0.7179\n",
      "Epoch 30/50\n",
      "1048/1048 [==============================] - 7s 6ms/step - loss: 0.4475 - acc: 0.7928 - val_loss: 0.6182 - val_acc: 0.6691\n",
      "Epoch 31/50\n",
      "1048/1048 [==============================] - 7s 6ms/step - loss: 0.4456 - acc: 0.7945 - val_loss: 0.4982 - val_acc: 0.7627\n",
      "Epoch 32/50\n",
      " 430/1048 [===========>..................] - ETA: 3s - loss: 0.4473 - acc: 0.7943"
     ]
    }
   ],
   "source": [
    "model.fit(train_dataset,validation_data=test_dataset,epochs=50)"
   ]
  },
  {
   "cell_type": "code",
   "execution_count": 857,
   "metadata": {},
   "outputs": [],
   "source": [
    "y_pred = model.predict(test_dataset)"
   ]
  },
  {
   "cell_type": "code",
   "execution_count": 858,
   "metadata": {},
   "outputs": [
    {
     "data": {
      "text/plain": [
       "0.4223031232036789"
      ]
     },
     "execution_count": 858,
     "metadata": {},
     "output_type": "execute_result"
    }
   ],
   "source": [
    "\n",
    "f1_score(y_test,np.round(y_pred))"
   ]
  },
  {
   "cell_type": "code",
   "execution_count": 859,
   "metadata": {},
   "outputs": [
    {
     "name": "stdout",
     "output_type": "stream",
     "text": [
      "              precision    recall  f1-score   support\n",
      "\n",
      "           0       0.97      0.85      0.90     16760\n",
      "           1       0.30      0.70      0.42      1583\n",
      "\n",
      "    accuracy                           0.84     18343\n",
      "   macro avg       0.64      0.77      0.66     18343\n",
      "weighted avg       0.91      0.84      0.86     18343\n",
      "\n"
     ]
    }
   ],
   "source": [
    "print(classification_report(y_test,np.round(y_pred)))"
   ]
  },
  {
   "cell_type": "code",
   "execution_count": 860,
   "metadata": {},
   "outputs": [
    {
     "data": {
      "text/plain": [
       "0.7724766198737479"
      ]
     },
     "execution_count": 860,
     "metadata": {},
     "output_type": "execute_result"
    }
   ],
   "source": [
    "roc_auc_score(y_test,np.round(y_pred))"
   ]
  },
  {
   "cell_type": "code",
   "execution_count": 763,
   "metadata": {},
   "outputs": [
    {
     "name": "stdout",
     "output_type": "stream",
     "text": [
      "Model: \"sequential_11\"\n",
      "_________________________________________________________________\n",
      "Layer (type)                 Output Shape              Param #   \n",
      "=================================================================\n",
      "dense_66 (Dense)             multiple                  65280     \n",
      "_________________________________________________________________\n",
      "batch_normalization_55 (Batc multiple                  1024      \n",
      "_________________________________________________________________\n",
      "dropout_45 (Dropout)         multiple                  0         \n",
      "_________________________________________________________________\n",
      "dense_67 (Dense)             multiple                  32896     \n",
      "_________________________________________________________________\n",
      "batch_normalization_56 (Batc multiple                  512       \n",
      "_________________________________________________________________\n",
      "dropout_46 (Dropout)         multiple                  0         \n",
      "_________________________________________________________________\n",
      "dense_68 (Dense)             multiple                  8256      \n",
      "_________________________________________________________________\n",
      "batch_normalization_57 (Batc multiple                  256       \n",
      "_________________________________________________________________\n",
      "dropout_47 (Dropout)         multiple                  0         \n",
      "_________________________________________________________________\n",
      "dense_69 (Dense)             multiple                  65        \n",
      "=================================================================\n",
      "Total params: 108,289\n",
      "Trainable params: 107,393\n",
      "Non-trainable params: 896\n",
      "_________________________________________________________________\n"
     ]
    }
   ],
   "source": [
    "model.summary()"
   ]
  },
  {
   "cell_type": "code",
   "execution_count": null,
   "metadata": {},
   "outputs": [],
   "source": []
  }
 ],
 "metadata": {
  "kernelspec": {
   "display_name": "Python [conda env:wids] *",
   "language": "python",
   "name": "conda-env-wids-py"
  },
  "language_info": {
   "codemirror_mode": {
    "name": "ipython",
    "version": 3
   },
   "file_extension": ".py",
   "mimetype": "text/x-python",
   "name": "python",
   "nbconvert_exporter": "python",
   "pygments_lexer": "ipython3",
   "version": "3.7.4"
  }
 },
 "nbformat": 4,
 "nbformat_minor": 2
}
